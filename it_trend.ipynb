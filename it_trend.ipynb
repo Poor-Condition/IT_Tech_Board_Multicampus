{
 "cells": [
  {
   "cell_type": "markdown",
   "source": [
    "# Import"
   ],
   "metadata": {
    "collapsed": false
   }
  },
  {
   "cell_type": "code",
   "execution_count": null,
   "outputs": [],
   "source": [
    "# default\n",
    "import numpy as np \n",
    "import pandas as pd \n",
    "import os\n",
    "\n",
    "# visualization\n",
    "import matplotlib\n",
    "import matplotlib.pyplot as plt\n",
    "import seaborn as sns\n",
    "import plotly.express as px\n",
    "import missingno as msno\n",
    "import networkx as nx\n",
    "import plotly.graph_objects as go\n",
    "\n",
    "# read file\n",
    "question = pd.read_csv('data/2019/questions_only.csv')\n",
    "schema = pd.read_csv('data/2019/survey_schema.csv')\n",
    "multiple_choice = pd.read_csv('data/2019/multiple_choice_responses.csv')\n",
    "other_text =  pd.read_csv('data/2019/other_text_responses.csv')"
   ],
   "metadata": {
    "collapsed": false,
    "pycharm": {
     "name": "#%%\n"
    }
   }
  },
  {
   "cell_type": "code",
   "execution_count": null,
   "outputs": [],
   "source": [
    "multiple_choice.head()"
   ],
   "metadata": {
    "collapsed": false,
    "pycharm": {
     "name": "#%%\n"
    }
   }
  },
  {
   "cell_type": "markdown",
   "source": [
    "## Before we start our analysis, let's see what questions are attractive."
   ],
   "metadata": {
    "collapsed": false
   }
  },
  {
   "cell_type": "code",
   "execution_count": null,
   "outputs": [],
   "source": [
    "# check the question list & return the survey answers\n",
    "# 'QXX' is format of `s`\n",
    "from IPython.core.display import display, HTML\n",
    "\n",
    "def q_list(s):\n",
    "    lst = []\n",
    "    for i in multiple_choice.columns:\n",
    "        if i[:3]==s:\n",
    "            lst.append(i)\n",
    "    df = multiple_choice[lst]\n",
    "\n",
    "    df_sub = df.iloc[0].apply(lambda x: ''.join(x.split('-')[2:]))\n",
    "    q = ''.join([f'<li>{i}</li>' for i in df_sub.values])\n",
    "    display(HTML(f'<div style=\"background: #f7f5f5; padding: 10px; border-radius: 10px;\"> <h3 style=\"color:#20639B; padding:10px\">{s} : {question.T[0][int(s[1:])]} </h3><ol style=\"color:Black;\">{q}</ol> <div>'))\n",
    "    return df, df_sub"
   ],
   "metadata": {
    "collapsed": false,
    "pycharm": {
     "name": "#%%\n"
    }
   }
  },
  {
   "cell_type": "code",
   "execution_count": null,
   "outputs": [],
   "source": [
    "q = ''.join([f'<li>{i}</li>' for i in question.T[0][1:]])\n",
    "display(HTML(f'<div style=\"background: #f6f4f4; padding: 10px; border-radius: 10px;\">  <h2 style=\"color:#20639B; padding:10px\"> Question List</h2><ol style=\"color:Black;\">{q}</ol> </div>'))"
   ],
   "metadata": {
    "collapsed": false,
    "pycharm": {
     "name": "#%%\n"
    }
   }
  },
  {
   "cell_type": "markdown",
   "source": [
    "## And this is distribution of # of sub-questions."
   ],
   "metadata": {
    "collapsed": false
   }
  },
  {
   "cell_type": "code",
   "execution_count": null,
   "outputs": [],
   "source": [
    "lst = []\n",
    "for i in multiple_choice.columns[1:]:\n",
    "    lst.append(i.split('_')[0])\n",
    "lst = pd.Series(lst).apply(lambda x : int(x[1:]))\n",
    "cnt = lst.value_counts().sort_index()\n",
    "\n",
    "fig, ax = plt.subplots(1,1,figsize=(17,5))\n",
    "sns.barplot(cnt.index, cnt, palette=\"Blues_d\", ax=ax)\n",
    "ax.set_title('# of Sub-Question')\n",
    "plt.show()"
   ],
   "metadata": {
    "collapsed": false,
    "pycharm": {
     "name": "#%%\n"
    }
   }
  },
  {
   "cell_type": "markdown",
   "source": [
    "## 1. Simple Distribution (Gender, Country)"
   ],
   "metadata": {
    "collapsed": false
   }
  },
  {
   "cell_type": "code",
   "execution_count": null,
   "outputs": [],
   "source": [
    "dist = multiple_choice[['Q1', 'Q2', 'Q3']]\n",
    "dist = dist.rename(columns={\"Q1\": \"Age\", \"Q2\": \"Gender\", \"Q3\":\"Country\"})\n",
    "dist.drop(0, axis=0, inplace=True)"
   ],
   "metadata": {
    "collapsed": false,
    "pycharm": {
     "name": "#%%\n"
    }
   }
  },
  {
   "cell_type": "code",
   "execution_count": null,
   "outputs": [],
   "source": [
    "from pywaffle import Waffle\n",
    "\n",
    "gender = dist['Gender'].value_counts()\n",
    "\n",
    "fig = plt.figure(\n",
    "    FigureClass=Waffle, \n",
    "    rows=5,\n",
    "    columns=12,\n",
    "    values=gender,\n",
    "    colors = ('#20639B', '#ED553B', '#3CAEA3', '#F5D55C'),\n",
    "    title={'label': 'Gender Distribution', 'loc': 'left'},\n",
    "    labels=[\"{}({})\".format(a, b) for a, b in zip(gender.index, gender) ],\n",
    "    legend={'loc': 'lower left', 'bbox_to_anchor': (0, -0.4), 'ncol': len(dist), 'framealpha': 0},\n",
    "    font_size=30, \n",
    "    icons = 'child',\n",
    "    figsize=(12, 5),  \n",
    "    icon_legend=True\n",
    ")"
   ],
   "metadata": {
    "collapsed": false,
    "pycharm": {
     "name": "#%%\n"
    }
   }
  },
  {
   "cell_type": "code",
   "execution_count": null,
   "outputs": [],
   "source": [
    "y = dist.Country.value_counts()\n",
    "\n",
    "fig = go.Figure(go.Treemap(\n",
    "    labels = y.index,\n",
    "    parents = ['World'] * len(y),\n",
    "    values = y\n",
    "))\n",
    "\n",
    "fig.update_layout(title = '# of Survey Participants')\n",
    "fig.show()"
   ],
   "metadata": {
    "collapsed": false,
    "pycharm": {
     "name": "#%%\n"
    }
   }
  },
  {
   "cell_type": "markdown",
   "source": [
    "## 2. Which Algorithm is most popular?"
   ],
   "metadata": {
    "collapsed": false
   }
  },
  {
   "cell_type": "code",
   "execution_count": null,
   "outputs": [],
   "source": [
    "q24_df, q24_sub = q_list('Q24')"
   ],
   "metadata": {
    "collapsed": false,
    "pycharm": {
     "name": "#%%\n"
    }
   }
  },
  {
   "cell_type": "code",
   "execution_count": null,
   "outputs": [],
   "source": [
    "q24_df.drop(0, axis=0, inplace=True)"
   ],
   "metadata": {
    "collapsed": false,
    "pycharm": {
     "name": "#%%\n"
    }
   }
  },
  {
   "cell_type": "code",
   "execution_count": null,
   "outputs": [],
   "source": [
    "q24_convert = {b:a for a, b in zip(q24_sub.values, q24_df.columns)}\n",
    "q24_df.rename(columns=q24_convert, inplace=True)"
   ],
   "metadata": {
    "collapsed": false,
    "pycharm": {
     "name": "#%%\n"
    }
   }
  },
  {
   "cell_type": "code",
   "execution_count": null,
   "outputs": [],
   "source": [
    "msno.matrix(q24_df)"
   ],
   "metadata": {
    "collapsed": false,
    "pycharm": {
     "name": "#%%\n"
    }
   }
  },
  {
   "cell_type": "code",
   "execution_count": null,
   "outputs": [],
   "source": [
    "msno.matrix(q24_df, sort='descending')"
   ],
   "metadata": {
    "collapsed": false,
    "pycharm": {
     "name": "#%%\n"
    }
   }
  },
  {
   "cell_type": "code",
   "execution_count": null,
   "outputs": [],
   "source": [
    "# sns.heatmap(q24_df.corr())\n",
    "q24_df.drop([' Text'], axis=1, inplace=True)\n",
    "q24_df = q24_df.fillna(0).apply(lambda x : x!=0)"
   ],
   "metadata": {
    "collapsed": false,
    "pycharm": {
     "name": "#%%\n"
    }
   }
  },
  {
   "cell_type": "code",
   "execution_count": null,
   "outputs": [],
   "source": [
    "q24_df.drop([' None',' Other'], axis=1, inplace=True)"
   ],
   "metadata": {
    "collapsed": false,
    "pycharm": {
     "name": "#%%\n"
    }
   }
  },
  {
   "cell_type": "code",
   "execution_count": null,
   "outputs": [],
   "source": [
    "corr = q24_df.corr()\n",
    "\n",
    "\n",
    "mask = np.zeros_like(corr, dtype=np.bool)\n",
    "mask[np.triu_indices_from(mask)] = True\n",
    "f, ax = plt.subplots(figsize=(15, 14))\n",
    "cmap = sns.diverging_palette(150, 275, s=100, l=20, as_cmap=True)\n",
    "sns.heatmap(corr, mask=mask, cmap=cmap, center=0, square=True, linewidths=.5, cbar_kws={\"shrink\": .5})"
   ],
   "metadata": {
    "collapsed": false,
    "pycharm": {
     "name": "#%%\n"
    }
   }
  },
  {
   "cell_type": "markdown",
   "source": [
    "## 3. How about ML Frameworks & Tools?"
   ],
   "metadata": {
    "collapsed": false
   }
  },
  {
   "cell_type": "code",
   "execution_count": null,
   "outputs": [],
   "source": [
    "q25_df, q25_sub = q_list('Q25')"
   ],
   "metadata": {
    "collapsed": false,
    "pycharm": {
     "name": "#%%\n"
    }
   }
  },
  {
   "cell_type": "code",
   "execution_count": null,
   "outputs": [],
   "source": [
    "q25_convert = {b:a for a, b in zip(q25_sub.values, q25_df.columns)}\n",
    "q25_df.rename(columns=q25_convert, inplace=True)"
   ],
   "metadata": {
    "collapsed": false,
    "pycharm": {
     "name": "#%%\n"
    }
   }
  },
  {
   "cell_type": "code",
   "execution_count": null,
   "outputs": [],
   "source": [
    "msno.matrix(q25_df)"
   ],
   "metadata": {
    "collapsed": false,
    "pycharm": {
     "name": "#%%\n"
    }
   }
  },
  {
   "cell_type": "code",
   "execution_count": null,
   "outputs": [],
   "source": [
    "print('There are {} other text answers'.format(len(other_text['Q25_OTHER_TEXT'].dropna())))"
   ],
   "metadata": {
    "collapsed": false,
    "pycharm": {
     "name": "#%%\n"
    }
   }
  },
  {
   "cell_type": "code",
   "execution_count": null,
   "outputs": [],
   "source": [
    "q28_df, q28_sub = q_list('Q28')"
   ],
   "metadata": {
    "collapsed": false,
    "pycharm": {
     "name": "#%%\n"
    }
   }
  },
  {
   "cell_type": "code",
   "execution_count": null,
   "outputs": [],
   "source": [
    "q28_df.drop(0, axis=0, inplace=True)\n",
    "q28_convert = {b:a for a, b in zip(q28_sub.values, q28_df.columns)}\n",
    "q28_df.rename(columns=q28_convert, inplace=True)\n",
    "msno.matrix(q28_df)"
   ],
   "metadata": {
    "collapsed": false,
    "pycharm": {
     "name": "#%%\n"
    }
   }
  },
  {
   "cell_type": "code",
   "execution_count": null,
   "outputs": [],
   "source": [
    "q28_ans = {}\n",
    "for i in q28_df.columns[:-1]:\n",
    "    q28_ans.update(q28_df[i].value_counts())\n",
    "\n",
    "q28_cnt = pd.Series(q28_ans)\n",
    "\n",
    "fig = go.Figure([go.Bar(x=q28_cnt.index, y=q28_cnt)])\n",
    "fig.update_layout(title=\"ML basis Framworks Ranking\")\n",
    "fig.show()"
   ],
   "metadata": {
    "collapsed": false,
    "pycharm": {
     "name": "#%%\n"
    }
   }
  },
  {
   "cell_type": "code",
   "execution_count": null,
   "outputs": [],
   "source": [
    "y = q28_cnt\n",
    "\n",
    "fig = go.Figure(go.Treemap(\n",
    "    labels = y.index,\n",
    "    parents = ['Framework'] * len(y),\n",
    "    values = y\n",
    "))\n",
    "\n",
    "fig.update_layout(title = 'Treemap of Hot Frameworks')\n",
    "fig.show()"
   ],
   "metadata": {
    "collapsed": false,
    "pycharm": {
     "name": "#%%\n"
    }
   }
  },
  {
   "cell_type": "code",
   "execution_count": null,
   "outputs": [],
   "source": [
    "q28_df = q28_df.fillna(0).apply(lambda x : x!=0)\n",
    "q28_df.drop([' None', ' Other', ' Text'], axis=1, inplace=True)"
   ],
   "metadata": {
    "collapsed": false,
    "pycharm": {
     "name": "#%%\n"
    }
   }
  },
  {
   "cell_type": "code",
   "execution_count": null,
   "outputs": [],
   "source": [
    "ML = pd.concat([q24_df, q28_df], axis=1)\n",
    "fig, ax = plt.subplots(1,1, figsize=(15, 15))\n",
    "sns.heatmap(ML.corr().iloc[0:10,10:], cmap=sns.color_palette(\"coolwarm\"), center=0,square=True, linewidths=.5, cbar_kws={\"shrink\": .5})\n",
    "plt.show()"
   ],
   "metadata": {
    "collapsed": false,
    "pycharm": {
     "name": "#%%\n"
    }
   }
  },
  {
   "cell_type": "markdown",
   "source": [
    "## 4. How About Programming Language?"
   ],
   "metadata": {
    "collapsed": false
   }
  },
  {
   "cell_type": "code",
   "execution_count": null,
   "outputs": [],
   "source": [
    "q19_cnt = multiple_choice['Q19'].value_counts()[:-1]\n",
    "\n",
    "fig = go.Figure([go.Bar(x=q19_cnt.index, y=q19_cnt, marker_color='crimson')])\n",
    "fig.update_layout(title=\"Programming Language Ranking\")\n",
    "fig.show()"
   ],
   "metadata": {
    "collapsed": false,
    "pycharm": {
     "name": "#%%\n"
    }
   }
  },
  {
   "cell_type": "code",
   "execution_count": null,
   "outputs": [],
   "source": [
    "q18_df, q18_sub = q_list('Q18')"
   ],
   "metadata": {
    "collapsed": false,
    "pycharm": {
     "name": "#%%\n"
    }
   }
  },
  {
   "cell_type": "markdown",
   "source": [
    "## 5. What is the relationship between ML Career and Language recommendations?"
   ],
   "metadata": {
    "collapsed": false
   }
  },
  {
   "cell_type": "code",
   "execution_count": null,
   "outputs": [],
   "source": [
    "data = multiple_choice[['Q19', 'Q23']]\n",
    "data.drop(0, axis=0, inplace=True)"
   ],
   "metadata": {
    "collapsed": false,
    "pycharm": {
     "name": "#%%\n"
    }
   }
  },
  {
   "cell_type": "code",
   "execution_count": null,
   "outputs": [],
   "source": [
    "career = data['Q23'].value_counts()\n",
    "\n",
    "fig = go.Figure([go.Bar(x=career.index, y=career, marker_color='#F6CD8B')])\n",
    "fig.update_layout(title=\"Distribution of ML Career\")\n",
    "fig.show()"
   ],
   "metadata": {
    "collapsed": false,
    "pycharm": {
     "name": "#%%\n"
    }
   }
  }
 ],
 "metadata": {
  "kernelspec": {
   "display_name": "Python 3.7.0 64-bit ('base': conda)",
   "language": "python",
   "name": "python_defaultSpec_1597825513078"
  },
  "language_info": {
   "codemirror_mode": {
    "name": "ipython",
    "version": 2
   },
   "file_extension": ".py",
   "mimetype": "text/x-python",
   "name": "python",
   "nbconvert_exporter": "python",
   "pygments_lexer": "ipython2",
   "version": "3.7.0-final"
  }
 },
 "nbformat": 4,
 "nbformat_minor": 0
}